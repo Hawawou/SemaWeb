{
 "cells": [
  {
   "cell_type": "code",
   "execution_count": 1,
   "metadata": {},
   "outputs": [
    {
     "name": "stdout",
     "output_type": "stream",
     "text": [
      "Requirement already satisfied: pandas in /Users/tunji/.local/share/virtualenvs/web-semantic-j3JPvgCc/lib/python3.12/site-packages (2.2.2)\n",
      "Requirement already satisfied: numpy>=1.26.0 in /Users/tunji/.local/share/virtualenvs/web-semantic-j3JPvgCc/lib/python3.12/site-packages (from pandas) (1.26.4)\n",
      "Requirement already satisfied: python-dateutil>=2.8.2 in /Users/tunji/.local/share/virtualenvs/web-semantic-j3JPvgCc/lib/python3.12/site-packages (from pandas) (2.9.0.post0)\n",
      "Requirement already satisfied: pytz>=2020.1 in /Users/tunji/.local/share/virtualenvs/web-semantic-j3JPvgCc/lib/python3.12/site-packages (from pandas) (2024.1)\n",
      "Requirement already satisfied: tzdata>=2022.7 in /Users/tunji/.local/share/virtualenvs/web-semantic-j3JPvgCc/lib/python3.12/site-packages (from pandas) (2024.1)\n",
      "Requirement already satisfied: six>=1.5 in /Users/tunji/.local/share/virtualenvs/web-semantic-j3JPvgCc/lib/python3.12/site-packages (from python-dateutil>=2.8.2->pandas) (1.16.0)\n",
      "Note: you may need to restart the kernel to use updated packages.\n",
      "Collecting tabula-py\n",
      "  Downloading tabula_py-2.9.3-py3-none-any.whl.metadata (7.6 kB)\n",
      "Requirement already satisfied: pandas>=0.25.3 in /Users/tunji/.local/share/virtualenvs/web-semantic-j3JPvgCc/lib/python3.12/site-packages (from tabula-py) (2.2.2)\n",
      "Requirement already satisfied: numpy in /Users/tunji/.local/share/virtualenvs/web-semantic-j3JPvgCc/lib/python3.12/site-packages (from tabula-py) (1.26.4)\n",
      "Collecting distro (from tabula-py)\n",
      "  Downloading distro-1.9.0-py3-none-any.whl.metadata (6.8 kB)\n",
      "Requirement already satisfied: python-dateutil>=2.8.2 in /Users/tunji/.local/share/virtualenvs/web-semantic-j3JPvgCc/lib/python3.12/site-packages (from pandas>=0.25.3->tabula-py) (2.9.0.post0)\n",
      "Requirement already satisfied: pytz>=2020.1 in /Users/tunji/.local/share/virtualenvs/web-semantic-j3JPvgCc/lib/python3.12/site-packages (from pandas>=0.25.3->tabula-py) (2024.1)\n",
      "Requirement already satisfied: tzdata>=2022.7 in /Users/tunji/.local/share/virtualenvs/web-semantic-j3JPvgCc/lib/python3.12/site-packages (from pandas>=0.25.3->tabula-py) (2024.1)\n",
      "Requirement already satisfied: six>=1.5 in /Users/tunji/.local/share/virtualenvs/web-semantic-j3JPvgCc/lib/python3.12/site-packages (from python-dateutil>=2.8.2->pandas>=0.25.3->tabula-py) (1.16.0)\n",
      "Downloading tabula_py-2.9.3-py3-none-any.whl (12.0 MB)\n",
      "\u001b[2K   \u001b[90m━━━━━━━━━━━━━━━━━━━━━━━━━━━━━━━━━━━━━━━━\u001b[0m \u001b[32m12.0/12.0 MB\u001b[0m \u001b[31m43.8 MB/s\u001b[0m eta \u001b[36m0:00:00\u001b[0m00:01\u001b[0m00:01\u001b[0m\n",
      "\u001b[?25hDownloading distro-1.9.0-py3-none-any.whl (20 kB)\n",
      "Installing collected packages: distro, tabula-py\n",
      "Successfully installed distro-1.9.0 tabula-py-2.9.3\n",
      "Note: you may need to restart the kernel to use updated packages.\n"
     ]
    }
   ],
   "source": [
    "%pip install pandas\n",
    "%pip install tabula-py"
   ]
  },
  {
   "cell_type": "code",
   "execution_count": 5,
   "metadata": {},
   "outputs": [
    {
     "name": "stdout",
     "output_type": "stream",
     "text": [
      "Converted ufo_report_2008.pdf to csv\n",
      "Converted ufo_report_2009.pdf to csv\n"
     ]
    }
   ],
   "source": [
    "import os\n",
    "import tabula\n",
    "import pandas as pd\n",
    "\n",
    "\n",
    "\n",
    "directory = 'data/uk'\n",
    "\n",
    "pdf_files = [f for f in os.listdir(directory) if f.endswith('.pdf')]\n",
    "\n",
    "for pdf_file in pdf_files:\n",
    "    file_path = os.path.join(directory, pdf_file)\n",
    "    tabula.convert_into(file_path, f\"{directory}/{pdf_file}.csv\", output_format=\"csv\", pages='all')\n",
    "    print(f\"Converted {pdf_file} to csv\")"
   ]
  },
  {
   "cell_type": "code",
   "execution_count": 14,
   "metadata": {},
   "outputs": [
    {
     "data": {
      "text/plain": [
       "(80332, 11)"
      ]
     },
     "execution_count": 14,
     "metadata": {},
     "output_type": "execute_result"
    }
   ],
   "source": [
    "us = pd.read_csv('data/us_ufo_sightings.csv')\n",
    "us.shape\n",
    "\n",
    "# france = pd.read_csv('data/france_ufo_sightings.csv', encoding='utf-8')\n",
    "# france.head()\n",
    "\n",
    "# uk = pd.concat([pd.read_csv(f\"{directory}/{f}\") for f in os.listdir(directory) if f.endswith('.csv')])\n",
    "# uk.head()"
   ]
  },
  {
   "cell_type": "code",
   "execution_count": null,
   "metadata": {},
   "outputs": [],
   "source": []
  }
 ],
 "metadata": {
  "kernelspec": {
   "display_name": "web-semantic-j3JPvgCc",
   "language": "python",
   "name": "python3"
  },
  "language_info": {
   "codemirror_mode": {
    "name": "ipython",
    "version": 3
   },
   "file_extension": ".py",
   "mimetype": "text/x-python",
   "name": "python",
   "nbconvert_exporter": "python",
   "pygments_lexer": "ipython3",
   "version": "3.12.3"
  }
 },
 "nbformat": 4,
 "nbformat_minor": 2
}
