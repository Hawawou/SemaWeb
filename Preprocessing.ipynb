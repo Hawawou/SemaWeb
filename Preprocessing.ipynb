{
 "cells": [
  {
   "cell_type": "code",
   "execution_count": 66,
   "metadata": {},
   "outputs": [
    {
     "name": "stdout",
     "output_type": "stream",
     "text": [
      "Requirement already satisfied: pandas in /Users/tunji/.local/share/virtualenvs/web-semantic-j3JPvgCc/lib/python3.12/site-packages (2.2.2)\n",
      "Requirement already satisfied: numpy>=1.26.0 in /Users/tunji/.local/share/virtualenvs/web-semantic-j3JPvgCc/lib/python3.12/site-packages (from pandas) (1.26.4)\n",
      "Requirement already satisfied: python-dateutil>=2.8.2 in /Users/tunji/.local/share/virtualenvs/web-semantic-j3JPvgCc/lib/python3.12/site-packages (from pandas) (2.9.0.post0)\n",
      "Requirement already satisfied: pytz>=2020.1 in /Users/tunji/.local/share/virtualenvs/web-semantic-j3JPvgCc/lib/python3.12/site-packages (from pandas) (2024.1)\n",
      "Requirement already satisfied: tzdata>=2022.7 in /Users/tunji/.local/share/virtualenvs/web-semantic-j3JPvgCc/lib/python3.12/site-packages (from pandas) (2024.1)\n",
      "Requirement already satisfied: six>=1.5 in /Users/tunji/.local/share/virtualenvs/web-semantic-j3JPvgCc/lib/python3.12/site-packages (from python-dateutil>=2.8.2->pandas) (1.16.0)\n",
      "Note: you may need to restart the kernel to use updated packages.\n",
      "Requirement already satisfied: tabula-py in /Users/tunji/.local/share/virtualenvs/web-semantic-j3JPvgCc/lib/python3.12/site-packages (2.9.3)\n",
      "Requirement already satisfied: pandas>=0.25.3 in /Users/tunji/.local/share/virtualenvs/web-semantic-j3JPvgCc/lib/python3.12/site-packages (from tabula-py) (2.2.2)\n",
      "Requirement already satisfied: numpy in /Users/tunji/.local/share/virtualenvs/web-semantic-j3JPvgCc/lib/python3.12/site-packages (from tabula-py) (1.26.4)\n",
      "Requirement already satisfied: distro in /Users/tunji/.local/share/virtualenvs/web-semantic-j3JPvgCc/lib/python3.12/site-packages (from tabula-py) (1.9.0)\n",
      "Requirement already satisfied: python-dateutil>=2.8.2 in /Users/tunji/.local/share/virtualenvs/web-semantic-j3JPvgCc/lib/python3.12/site-packages (from pandas>=0.25.3->tabula-py) (2.9.0.post0)\n",
      "Requirement already satisfied: pytz>=2020.1 in /Users/tunji/.local/share/virtualenvs/web-semantic-j3JPvgCc/lib/python3.12/site-packages (from pandas>=0.25.3->tabula-py) (2024.1)\n",
      "Requirement already satisfied: tzdata>=2022.7 in /Users/tunji/.local/share/virtualenvs/web-semantic-j3JPvgCc/lib/python3.12/site-packages (from pandas>=0.25.3->tabula-py) (2024.1)\n",
      "Requirement already satisfied: six>=1.5 in /Users/tunji/.local/share/virtualenvs/web-semantic-j3JPvgCc/lib/python3.12/site-packages (from python-dateutil>=2.8.2->pandas>=0.25.3->tabula-py) (1.16.0)\n",
      "Note: you may need to restart the kernel to use updated packages.\n"
     ]
    }
   ],
   "source": [
    "%pip install pandas\n",
    "%pip install tabula-py"
   ]
  },
  {
   "cell_type": "code",
   "execution_count": 94,
   "metadata": {},
   "outputs": [],
   "source": [
    "\n",
    "import os\n",
    "import tabula\n",
    "import pandas as pd\n",
    "import re\n",
    "from datetime import datetime, timedelta\n",
    "\n",
    "directory = 'data/uk'\n",
    "\n",
    "pdf_files = [f for f in os.listdir(directory) if f.endswith('.pdf')]\n",
    "\n",
    "# Do not run this loop as it will overwrite the manually edited csv files\n",
    "# for pdf_file in pdf_files:\n",
    "#     pdf_file_name = re.sub('.pdf', '', pdf_file)\n",
    "#     file_path = os.path.join(directory, pdf_file)\n",
    "#     tabula.convert_into(file_path, f\"{directory}/{pdf_file_name}.csv\", output_format=\"csv\", pages='all')\n",
    "#     print(f\"Converted {pdf_file} to csv\")"
   ]
  },
  {
   "cell_type": "code",
   "execution_count": 95,
   "metadata": {},
   "outputs": [],
   "source": [
    "def rename_columns(columns):\n",
    "    column_mapping = {\n",
    "        re.compile(r'date', re.IGNORECASE): 'date',\n",
    "        re.compile(r'time', re.IGNORECASE): 'time',\n",
    "        re.compile(r'(town|village)', re.IGNORECASE): 'city',\n",
    "        re.compile(r'county', re.IGNORECASE): 'country',\n",
    "        re.compile(r'occupation', re.IGNORECASE): 'reporters occupation',\n",
    "        re.compile(r'description', re.IGNORECASE): 'description'\n",
    "    }\n",
    "    new_columns = []\n",
    "    for col in columns:\n",
    "        for pattern, new_name in column_mapping.items():\n",
    "            if pattern.search(col):\n",
    "                new_columns.append(new_name)\n",
    "                break\n",
    "        else:\n",
    "            new_columns.append(col)  # Keep the original column name if no pattern matches\n",
    "\n",
    "    # Ensure the columns are unique\n",
    "    unique_columns = []\n",
    "    seen = set()\n",
    "    for col in new_columns:\n",
    "        if col in seen:\n",
    "            counter = 1\n",
    "            new_col = f\"{col}_{counter}\"\n",
    "            while new_col in seen:\n",
    "                counter += 1\n",
    "                new_col = f\"{col}_{counter}\"\n",
    "            unique_columns.append(new_col)\n",
    "            seen.add(new_col)\n",
    "        else:\n",
    "            unique_columns.append(col)\n",
    "            seen.add(col)\n",
    "\n",
    "    return unique_columns\n"
   ]
  },
  {
   "cell_type": "code",
   "execution_count": 96,
   "metadata": {},
   "outputs": [],
   "source": [
    "def correct_datetime(dt_str):\n",
    "    # Check if the time is \"24:00\" and adjust accordingly\n",
    "    if dt_str.endswith(\"24:00\"):\n",
    "        # Extract date part and convert it to datetime object\n",
    "        date_part = dt_str.split()[0]\n",
    "        date_obj = datetime.strptime(date_part, \"%m/%d/%Y\")\n",
    "        # Increment the day by one\n",
    "        corrected_date_obj = date_obj + timedelta(days=1)\n",
    "        # Format back to string and replace \"24:00\" with \"00:00\"\n",
    "        corrected_dt_str = corrected_date_obj.strftime(\"%m/%d/%Y\") + \" 00:00\"\n",
    "        return corrected_dt_str\n",
    "    else:\n",
    "        return dt_str"
   ]
  },
  {
   "cell_type": "code",
   "execution_count": 97,
   "metadata": {},
   "outputs": [
    {
     "data": {
      "text/html": [
       "<div>\n",
       "<style scoped>\n",
       "    .dataframe tbody tr th:only-of-type {\n",
       "        vertical-align: middle;\n",
       "    }\n",
       "\n",
       "    .dataframe tbody tr th {\n",
       "        vertical-align: top;\n",
       "    }\n",
       "\n",
       "    .dataframe thead th {\n",
       "        text-align: right;\n",
       "    }\n",
       "</style>\n",
       "<table border=\"1\" class=\"dataframe\">\n",
       "  <thead>\n",
       "    <tr style=\"text-align: right;\">\n",
       "      <th></th>\n",
       "      <th>date</th>\n",
       "      <th>time</th>\n",
       "      <th>city</th>\n",
       "      <th>Area</th>\n",
       "      <th>reporters occupation</th>\n",
       "      <th>description</th>\n",
       "      <th>country</th>\n",
       "    </tr>\n",
       "  </thead>\n",
       "  <tbody>\n",
       "    <tr>\n",
       "      <th>0</th>\n",
       "      <td>Jan-09</td>\n",
       "      <td>Not Given</td>\n",
       "      <td>Warwick</td>\n",
       "      <td>Warwickshire</td>\n",
       "      <td>Air Traffic Control\\remployee</td>\n",
       "      <td>An orange glowing object with a red light on t...</td>\n",
       "      <td>NaN</td>\n",
       "    </tr>\n",
       "    <tr>\n",
       "      <th>1</th>\n",
       "      <td>Jan-09</td>\n",
       "      <td>Not Given</td>\n",
       "      <td>Not Given</td>\n",
       "      <td>North Yorkshire</td>\n",
       "      <td>NaN</td>\n",
       "      <td>Very curious. A very bright light, four times ...</td>\n",
       "      <td>NaN</td>\n",
       "    </tr>\n",
       "    <tr>\n",
       "      <th>2</th>\n",
       "      <td>Jan-09</td>\n",
       "      <td>Not Given</td>\n",
       "      <td>Carterton</td>\n",
       "      <td>Oxfordshire</td>\n",
       "      <td>Air Traffic Control\\remployee</td>\n",
       "      <td>A very bright constant red light.</td>\n",
       "      <td>NaN</td>\n",
       "    </tr>\n",
       "    <tr>\n",
       "      <th>3</th>\n",
       "      <td>Jan-09</td>\n",
       "      <td>Not Given</td>\n",
       "      <td>High Wycombe</td>\n",
       "      <td>Buckinghamshire</td>\n",
       "      <td>NaN</td>\n",
       "      <td>been outside the individuals house for some ni...</td>\n",
       "      <td>NaN</td>\n",
       "    </tr>\n",
       "    <tr>\n",
       "      <th>4</th>\n",
       "      <td>Jan-09</td>\n",
       "      <td>Not Given</td>\n",
       "      <td>Sawtry</td>\n",
       "      <td>Cambridgeshire</td>\n",
       "      <td>NaN</td>\n",
       "      <td>A UFO.</td>\n",
       "      <td>NaN</td>\n",
       "    </tr>\n",
       "  </tbody>\n",
       "</table>\n",
       "</div>"
      ],
      "text/plain": [
       "     date       time          city             Area  \\\n",
       "0  Jan-09  Not Given       Warwick     Warwickshire   \n",
       "1  Jan-09  Not Given     Not Given  North Yorkshire   \n",
       "2  Jan-09  Not Given     Carterton      Oxfordshire   \n",
       "3  Jan-09  Not Given  High Wycombe  Buckinghamshire   \n",
       "4  Jan-09  Not Given        Sawtry   Cambridgeshire   \n",
       "\n",
       "            reporters occupation  \\\n",
       "0  Air Traffic Control\\remployee   \n",
       "1                            NaN   \n",
       "2  Air Traffic Control\\remployee   \n",
       "3                            NaN   \n",
       "4                            NaN   \n",
       "\n",
       "                                         description country  \n",
       "0  An orange glowing object with a red light on t...     NaN  \n",
       "1  Very curious. A very bright light, four times ...     NaN  \n",
       "2                  A very bright constant red light.     NaN  \n",
       "3  been outside the individuals house for some ni...     NaN  \n",
       "4                                             A UFO.     NaN  "
      ]
     },
     "execution_count": 97,
     "metadata": {},
     "output_type": "execute_result"
    }
   ],
   "source": [
    "all_csv_files = [f for f in os.listdir(directory) if re.search(r'\\.csv$', f)]\n",
    "# print(all_csv_files)\n",
    "combined_csv_data = pd.DataFrame()\n",
    "\n",
    "for csv_file in all_csv_files:\n",
    "    csv_file_path = os.path.join(directory, csv_file)\n",
    "    try:\n",
    "        temp_df = pd.read_csv(csv_file_path, on_bad_lines='skip')\n",
    "        # Drop unnamed columns\n",
    "        # Identify and remove columns that start with 'Unnamed'\n",
    "        temp_df = temp_df.loc[:, ~temp_df.columns.str.contains('^Unnamed')]\n",
    "        # Alternatively, to remove columns starting specifically with 'Unnamed: '\n",
    "        temp_df = temp_df.loc[:, ~temp_df.columns.str.startswith('Unnamed: ')]\n",
    "        temp_df.columns = rename_columns(temp_df.columns)  # Rename the columns\n",
    "        combined_csv_data = pd.concat([combined_csv_data, temp_df], ignore_index=True)\n",
    "    except pd.errors.ParserError as e:\n",
    "        print(f\"Error parsing {csv_file_path}: {e}\")\n",
    "    except Exception as e:\n",
    "        print(f\"An unexpected error occurred with {csv_file_path}: {e}\")\n",
    "combined_csv_data.to_csv(os.path.join('data', 'uk_ufo_sightings.csv'), index=False)\n",
    "combined_csv_data.head(5)\n"
   ]
  },
  {
   "cell_type": "code",
   "execution_count": 98,
   "metadata": {},
   "outputs": [
    {
     "data": {
      "text/plain": [
       "(2494, 7)"
      ]
     },
     "execution_count": 98,
     "metadata": {},
     "output_type": "execute_result"
    }
   ],
   "source": [
    "uk = pd.read_csv('data/uk_ufo_sightings.csv')\n",
    "# uk.head(10)\n",
    "uk.shape"
   ]
  },
  {
   "cell_type": "code",
   "execution_count": 103,
   "metadata": {},
   "outputs": [
    {
     "data": {
      "text/plain": [
       "(80332, 12)"
      ]
     },
     "execution_count": 103,
     "metadata": {},
     "output_type": "execute_result"
    }
   ],
   "source": [
    "us = pd.read_csv('data/us_ufo_sightings.csv')\n",
    "\n",
    "# Convert the 'date_time' column to datetime using this formatting 10/10/1949 20:30\n",
    "us['date_time'] = us['date_time'].apply(correct_datetime)\n",
    "us['date_time'] = pd.to_datetime(us['date_time'], format=\"%m/%d/%Y %H:%M\")\n",
    "\n",
    "# Extract the date and time from the 'DateTime' column\n",
    "us['date'] = us['date_time'].dt.date\n",
    "us['time'] = us['date_time'].dt.time\n",
    "\n",
    "us = us.drop(columns=['date_time'])\n",
    "\n",
    "us.rename(columns={'city_area': 'city'}, inplace=True)\n",
    "\n",
    "us.head(10)\n",
    "us.shape"
   ]
  },
  {
   "cell_type": "code",
   "execution_count": 104,
   "metadata": {},
   "outputs": [
    {
     "data": {
      "text/plain": [
       "(82826, 14)"
      ]
     },
     "execution_count": 104,
     "metadata": {},
     "output_type": "execute_result"
    }
   ],
   "source": [
    "ufo_sightings = pd.concat([us, uk], axis=0, join='outer', ignore_index=True)\n",
    "# ufo_sightings.head(10)\n",
    "ufo_sightings.to_csv('data/ufo_sightings.csv', index=False)\n",
    "ufo_sightings.shape"
   ]
  },
  {
   "cell_type": "code",
   "execution_count": null,
   "metadata": {},
   "outputs": [],
   "source": []
  }
 ],
 "metadata": {
  "kernelspec": {
   "display_name": "web-semantic-j3JPvgCc",
   "language": "python",
   "name": "python3"
  },
  "language_info": {
   "codemirror_mode": {
    "name": "ipython",
    "version": 3
   },
   "file_extension": ".py",
   "mimetype": "text/x-python",
   "name": "python",
   "nbconvert_exporter": "python",
   "pygments_lexer": "ipython3",
   "version": "3.12.3"
  }
 },
 "nbformat": 4,
 "nbformat_minor": 2
}
